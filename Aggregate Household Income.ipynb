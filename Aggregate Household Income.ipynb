{
 "cells": [
  {
   "cell_type": "markdown",
   "metadata": {},
   "source": [
    "This is Anna's Data Set, Aggregate Household Income"
   ]
  },
  {
   "cell_type": "code",
   "execution_count": 1,
   "metadata": {},
   "outputs": [],
   "source": [
    "import pandas as pd"
   ]
  },
  {
   "cell_type": "code",
   "execution_count": 4,
   "metadata": {},
   "outputs": [
    {
     "data": {
      "text/html": [
       "<div>\n",
       "<style scoped>\n",
       "    .dataframe tbody tr th:only-of-type {\n",
       "        vertical-align: middle;\n",
       "    }\n",
       "\n",
       "    .dataframe tbody tr th {\n",
       "        vertical-align: top;\n",
       "    }\n",
       "\n",
       "    .dataframe thead th {\n",
       "        text-align: right;\n",
       "    }\n",
       "</style>\n",
       "<table border=\"1\" class=\"dataframe\">\n",
       "  <thead>\n",
       "    <tr style=\"text-align: right;\">\n",
       "      <th></th>\n",
       "      <th>Neighborhood</th>\n",
       "      <th>Id</th>\n",
       "      <th>Aggregate_household_income</th>\n",
       "      <th>Margin_of_Error</th>\n",
       "    </tr>\n",
       "  </thead>\n",
       "  <tbody>\n",
       "    <tr>\n",
       "      <th>76</th>\n",
       "      <td>Squirrel Hill South</td>\n",
       "      <td>78</td>\n",
       "      <td>659886300.0</td>\n",
       "      <td>57908445.45</td>\n",
       "    </tr>\n",
       "    <tr>\n",
       "      <th>67</th>\n",
       "      <td>Shadyside</td>\n",
       "      <td>69</td>\n",
       "      <td>605635700.0</td>\n",
       "      <td>62416083.58</td>\n",
       "    </tr>\n",
       "    <tr>\n",
       "      <th>75</th>\n",
       "      <td>Squirrel Hill North</td>\n",
       "      <td>77</td>\n",
       "      <td>577467500.0</td>\n",
       "      <td>66363783.65</td>\n",
       "    </tr>\n",
       "    <tr>\n",
       "      <th>12</th>\n",
       "      <td>Brookline</td>\n",
       "      <td>14</td>\n",
       "      <td>366945900.0</td>\n",
       "      <td>33459110.1</td>\n",
       "    </tr>\n",
       "    <tr>\n",
       "      <th>62</th>\n",
       "      <td>Point Breeze</td>\n",
       "      <td>64</td>\n",
       "      <td>314958500.0</td>\n",
       "      <td>30291428.03</td>\n",
       "    </tr>\n",
       "    <tr>\n",
       "      <th>52</th>\n",
       "      <td>Mount Washington</td>\n",
       "      <td>54</td>\n",
       "      <td>267100700.0</td>\n",
       "      <td>26611655.18</td>\n",
       "    </tr>\n",
       "    <tr>\n",
       "      <th>8</th>\n",
       "      <td>Bloomfield</td>\n",
       "      <td>10</td>\n",
       "      <td>249898900.0</td>\n",
       "      <td>17631530.8</td>\n",
       "    </tr>\n",
       "    <tr>\n",
       "      <th>38</th>\n",
       "      <td>Highland Park</td>\n",
       "      <td>40</td>\n",
       "      <td>242405400.0</td>\n",
       "      <td>35463932.76</td>\n",
       "    </tr>\n",
       "    <tr>\n",
       "      <th>35</th>\n",
       "      <td>Greenfield</td>\n",
       "      <td>37</td>\n",
       "      <td>241377900.0</td>\n",
       "      <td>26174704.08</td>\n",
       "    </tr>\n",
       "    <tr>\n",
       "      <th>71</th>\n",
       "      <td>South Side Flats</td>\n",
       "      <td>73</td>\n",
       "      <td>233098400.0</td>\n",
       "      <td>31279286.86</td>\n",
       "    </tr>\n",
       "  </tbody>\n",
       "</table>\n",
       "</div>"
      ],
      "text/plain": [
       "           Neighborhood  Id  Aggregate_household_income Margin_of_Error\n",
       "76  Squirrel Hill South  78                 659886300.0     57908445.45\n",
       "67            Shadyside  69                 605635700.0     62416083.58\n",
       "75  Squirrel Hill North  77                 577467500.0     66363783.65\n",
       "12            Brookline  14                 366945900.0      33459110.1\n",
       "62         Point Breeze  64                 314958500.0     30291428.03\n",
       "52     Mount Washington  54                 267100700.0     26611655.18\n",
       "8            Bloomfield  10                 249898900.0      17631530.8\n",
       "38        Highland Park  40                 242405400.0     35463932.76\n",
       "35           Greenfield  37                 241377900.0     26174704.08\n",
       "71     South Side Flats  73                 233098400.0     31279286.86"
      ]
     },
     "execution_count": 4,
     "metadata": {},
     "output_type": "execute_result"
    }
   ],
   "source": [
    "income = pd.read_csv(\"aggregate-household-income-in-the-past-12-months-in-2015-inflation-adjusted-dollars.csv\")\n",
    "newincome = income.loc[income['Neighborhood']!= 'South Shore']\n",
    "newincome1 = newincome.loc[newincome['Neighborhood']!= 'Chateau']\n",
    "newincome1.Aggregate_household_income = newincome1.Aggregate_household_income.astype(float)\n",
    "sortedincome = newincome1.sort_values(\"Aggregate_household_income\",ascending=False)\n",
    "sortedincome.head(10)"
   ]
  },
  {
   "cell_type": "code",
   "execution_count": null,
   "metadata": {},
   "outputs": [],
   "source": []
  },
  {
   "cell_type": "code",
   "execution_count": null,
   "metadata": {},
   "outputs": [],
   "source": []
  },
  {
   "cell_type": "code",
   "execution_count": null,
   "metadata": {},
   "outputs": [],
   "source": []
  },
  {
   "cell_type": "code",
   "execution_count": null,
   "metadata": {},
   "outputs": [],
   "source": []
  },
  {
   "cell_type": "code",
   "execution_count": null,
   "metadata": {},
   "outputs": [],
   "source": []
  }
 ],
 "metadata": {
  "kernelspec": {
   "display_name": "Python 3",
   "language": "python",
   "name": "python3"
  },
  "language_info": {
   "codemirror_mode": {
    "name": "ipython",
    "version": 3
   },
   "file_extension": ".py",
   "mimetype": "text/x-python",
   "name": "python",
   "nbconvert_exporter": "python",
   "pygments_lexer": "ipython3",
   "version": "3.8.5"
  }
 },
 "nbformat": 4,
 "nbformat_minor": 4
}

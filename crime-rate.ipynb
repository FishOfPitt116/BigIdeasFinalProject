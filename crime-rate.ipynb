{
 "cells": [
  {
   "cell_type": "markdown",
   "metadata": {},
   "source": [
    "**This is Robbie's Notebook concerning the crime rate data for Pittsburgh neighborhoods.**"
   ]
  },
  {
   "cell_type": "code",
   "execution_count": 1,
   "metadata": {},
   "outputs": [],
   "source": [
    "import pandas as pd"
   ]
  },
  {
   "cell_type": "code",
   "execution_count": 78,
   "metadata": {},
   "outputs": [
    {
     "data": {
      "text/html": [
       "<div>\n",
       "<style scoped>\n",
       "    .dataframe tbody tr th:only-of-type {\n",
       "        vertical-align: middle;\n",
       "    }\n",
       "\n",
       "    .dataframe tbody tr th {\n",
       "        vertical-align: top;\n",
       "    }\n",
       "\n",
       "    .dataframe thead th {\n",
       "        text-align: right;\n",
       "    }\n",
       "</style>\n",
       "<table border=\"1\" class=\"dataframe\">\n",
       "  <thead>\n",
       "    <tr style=\"text-align: right;\">\n",
       "      <th></th>\n",
       "      <th>Neighborhood</th>\n",
       "      <th>Incidents</th>\n",
       "    </tr>\n",
       "  </thead>\n",
       "  <tbody>\n",
       "    <tr>\n",
       "      <th>0</th>\n",
       "      <td>Allegheny Center</td>\n",
       "      <td>864</td>\n",
       "    </tr>\n",
       "    <tr>\n",
       "      <th>0</th>\n",
       "      <td>Allegheny West</td>\n",
       "      <td>92</td>\n",
       "    </tr>\n",
       "    <tr>\n",
       "      <th>0</th>\n",
       "      <td>Allentown</td>\n",
       "      <td>689</td>\n",
       "    </tr>\n",
       "    <tr>\n",
       "      <th>0</th>\n",
       "      <td>Arlington</td>\n",
       "      <td>209</td>\n",
       "    </tr>\n",
       "    <tr>\n",
       "      <th>0</th>\n",
       "      <td>Arlington Heights</td>\n",
       "      <td>111</td>\n",
       "    </tr>\n",
       "    <tr>\n",
       "      <th>...</th>\n",
       "      <td>...</td>\n",
       "      <td>...</td>\n",
       "    </tr>\n",
       "    <tr>\n",
       "      <th>0</th>\n",
       "      <td>Upper Lawrenceville</td>\n",
       "      <td>148</td>\n",
       "    </tr>\n",
       "    <tr>\n",
       "      <th>0</th>\n",
       "      <td>West End</td>\n",
       "      <td>198</td>\n",
       "    </tr>\n",
       "    <tr>\n",
       "      <th>0</th>\n",
       "      <td>West Oakland</td>\n",
       "      <td>225</td>\n",
       "    </tr>\n",
       "    <tr>\n",
       "      <th>0</th>\n",
       "      <td>Westwood</td>\n",
       "      <td>158</td>\n",
       "    </tr>\n",
       "    <tr>\n",
       "      <th>0</th>\n",
       "      <td>Windgap</td>\n",
       "      <td>82</td>\n",
       "    </tr>\n",
       "  </tbody>\n",
       "</table>\n",
       "<p>98 rows × 2 columns</p>\n",
       "</div>"
      ],
      "text/plain": [
       "           Neighborhood Incidents\n",
       "0      Allegheny Center       864\n",
       "0        Allegheny West        92\n",
       "0             Allentown       689\n",
       "0             Arlington       209\n",
       "0     Arlington Heights       111\n",
       "..                  ...       ...\n",
       "0   Upper Lawrenceville       148\n",
       "0              West End       198\n",
       "0          West Oakland       225\n",
       "0              Westwood       158\n",
       "0               Windgap        82\n",
       "\n",
       "[98 rows x 2 columns]"
      ]
     },
     "execution_count": 78,
     "metadata": {},
     "output_type": "execute_result"
    }
   ],
   "source": [
    "data = pd.read_csv(\"pittsburgh-police-arrest-data.csv\")\n",
    "data = data.sort_values(\"INCIDENTNEIGHBORHOOD\")\n",
    "currNeighborhood = \"-\"\n",
    "count = 0\n",
    "index = 0\n",
    "incidentsPerNeighborhood = pd.DataFrame([], columns = ['Neighborhood', 'Incidents'])\n",
    "for row in data.iterrows():\n",
    "    moddata = str(data.iloc[index, 9])\n",
    "    if currNeighborhood == \"-\":\n",
    "        currNeighborhood = moddata\n",
    "    elif currNeighborhood == \"NaN\": # Some data did not have a neighborhood input. Therefore, this data was discarded.\n",
    "        temp = pd.DataFrame([[currNeighborhood, count]], columns = ['Neighborhood', 'Incidents'])\n",
    "        incidentsPerNeighborhood = incidentsPerNeighborhood.append(temp)\n",
    "        break\n",
    "    elif currNeighborhood != moddata:\n",
    "        temp = pd.DataFrame([[currNeighborhood, count]], columns = ['Neighborhood', 'Incidents'])\n",
    "        incidentsPerNeighborhood = incidentsPerNeighborhood.append(temp)\n",
    "        count = 0\n",
    "        currNeighborhood = moddata\n",
    "    count = count + 1\n",
    "    index = index + 1\n",
    "incidentsPerNeighborhood.head(25)\n",
    "# incidentsPerNeighborhood = incidentsPerNeighborhood.sort_values('Incidents') To sort in ascending order number of incidents\n",
    "# incidentsPerNeighborhood will have number of incidents per neighborhood stored in neighborhood alphabetical order."
   ]
  },
  {
   "cell_type": "code",
   "execution_count": null,
   "metadata": {},
   "outputs": [],
   "source": []
  }
 ],
 "metadata": {
  "kernelspec": {
   "display_name": "Python 3",
   "language": "python",
   "name": "python3"
  },
  "language_info": {
   "codemirror_mode": {
    "name": "ipython",
    "version": 3
   },
   "file_extension": ".py",
   "mimetype": "text/x-python",
   "name": "python",
   "nbconvert_exporter": "python",
   "pygments_lexer": "ipython3",
   "version": "3.8.5"
  }
 },
 "nbformat": 4,
 "nbformat_minor": 4
}

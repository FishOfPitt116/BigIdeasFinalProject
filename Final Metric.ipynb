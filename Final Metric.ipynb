{
 "cells": [
  {
   "cell_type": "markdown",
   "metadata": {},
   "source": [
    "# Which is the Best Neighborhood in Pittsburgh?"
   ]
  },
  {
   "cell_type": "markdown",
   "metadata": {},
   "source": [
    "## Introduction\n"
   ]
  },
  {
   "cell_type": "code",
   "execution_count": 1,
   "metadata": {},
   "outputs": [],
   "source": [
    "import pandas as pd\n",
    "import numpy as np\n",
    "from matplotlib import pyplot as plt\n",
    "%matplotlib inline"
   ]
  },
  {
   "cell_type": "markdown",
   "metadata": {},
   "source": [
    "Anna's Top Ten Neighborhoods"
   ]
  },
  {
   "cell_type": "code",
   "execution_count": 2,
   "metadata": {},
   "outputs": [
    {
     "name": "stderr",
     "output_type": "stream",
     "text": [
      "/opt/anaconda3/envs/cmpinf0010/lib/python3.7/site-packages/pandas/core/generic.py:5491: SettingWithCopyWarning: \n",
      "A value is trying to be set on a copy of a slice from a DataFrame.\n",
      "Try using .loc[row_indexer,col_indexer] = value instead\n",
      "\n",
      "See the caveats in the documentation: https://pandas.pydata.org/pandas-docs/stable/user_guide/indexing.html#returning-a-view-versus-a-copy\n",
      "  self[name] = value\n"
     ]
    },
    {
     "data": {
      "text/html": [
       "<div>\n",
       "<style scoped>\n",
       "    .dataframe tbody tr th:only-of-type {\n",
       "        vertical-align: middle;\n",
       "    }\n",
       "\n",
       "    .dataframe tbody tr th {\n",
       "        vertical-align: top;\n",
       "    }\n",
       "\n",
       "    .dataframe thead th {\n",
       "        text-align: right;\n",
       "    }\n",
       "</style>\n",
       "<table border=\"1\" class=\"dataframe\">\n",
       "  <thead>\n",
       "    <tr style=\"text-align: right;\">\n",
       "      <th></th>\n",
       "      <th>Neighborhood</th>\n",
       "      <th>Id</th>\n",
       "      <th>Aggregate_household_income</th>\n",
       "      <th>Margin_of_Error</th>\n",
       "    </tr>\n",
       "  </thead>\n",
       "  <tbody>\n",
       "    <tr>\n",
       "      <th>76</th>\n",
       "      <td>Squirrel Hill South</td>\n",
       "      <td>78</td>\n",
       "      <td>659886300.0</td>\n",
       "      <td>57908445.45</td>\n",
       "    </tr>\n",
       "    <tr>\n",
       "      <th>67</th>\n",
       "      <td>Shadyside</td>\n",
       "      <td>69</td>\n",
       "      <td>605635700.0</td>\n",
       "      <td>62416083.58</td>\n",
       "    </tr>\n",
       "    <tr>\n",
       "      <th>75</th>\n",
       "      <td>Squirrel Hill North</td>\n",
       "      <td>77</td>\n",
       "      <td>577467500.0</td>\n",
       "      <td>66363783.65</td>\n",
       "    </tr>\n",
       "    <tr>\n",
       "      <th>12</th>\n",
       "      <td>Brookline</td>\n",
       "      <td>14</td>\n",
       "      <td>366945900.0</td>\n",
       "      <td>33459110.1</td>\n",
       "    </tr>\n",
       "    <tr>\n",
       "      <th>62</th>\n",
       "      <td>Point Breeze</td>\n",
       "      <td>64</td>\n",
       "      <td>314958500.0</td>\n",
       "      <td>30291428.03</td>\n",
       "    </tr>\n",
       "    <tr>\n",
       "      <th>52</th>\n",
       "      <td>Mount Washington</td>\n",
       "      <td>54</td>\n",
       "      <td>267100700.0</td>\n",
       "      <td>26611655.18</td>\n",
       "    </tr>\n",
       "    <tr>\n",
       "      <th>8</th>\n",
       "      <td>Bloomfield</td>\n",
       "      <td>10</td>\n",
       "      <td>249898900.0</td>\n",
       "      <td>17631530.8</td>\n",
       "    </tr>\n",
       "    <tr>\n",
       "      <th>38</th>\n",
       "      <td>Highland Park</td>\n",
       "      <td>40</td>\n",
       "      <td>242405400.0</td>\n",
       "      <td>35463932.76</td>\n",
       "    </tr>\n",
       "    <tr>\n",
       "      <th>35</th>\n",
       "      <td>Greenfield</td>\n",
       "      <td>37</td>\n",
       "      <td>241377900.0</td>\n",
       "      <td>26174704.08</td>\n",
       "    </tr>\n",
       "    <tr>\n",
       "      <th>71</th>\n",
       "      <td>South Side Flats</td>\n",
       "      <td>73</td>\n",
       "      <td>233098400.0</td>\n",
       "      <td>31279286.86</td>\n",
       "    </tr>\n",
       "  </tbody>\n",
       "</table>\n",
       "</div>"
      ],
      "text/plain": [
       "           Neighborhood  Id  Aggregate_household_income Margin_of_Error\n",
       "76  Squirrel Hill South  78                 659886300.0     57908445.45\n",
       "67            Shadyside  69                 605635700.0     62416083.58\n",
       "75  Squirrel Hill North  77                 577467500.0     66363783.65\n",
       "12            Brookline  14                 366945900.0      33459110.1\n",
       "62         Point Breeze  64                 314958500.0     30291428.03\n",
       "52     Mount Washington  54                 267100700.0     26611655.18\n",
       "8            Bloomfield  10                 249898900.0      17631530.8\n",
       "38        Highland Park  40                 242405400.0     35463932.76\n",
       "35           Greenfield  37                 241377900.0     26174704.08\n",
       "71     South Side Flats  73                 233098400.0     31279286.86"
      ]
     },
     "execution_count": 2,
     "metadata": {},
     "output_type": "execute_result"
    }
   ],
   "source": [
    "income = pd.read_csv(\"aggregate-household-income-in-the-past-12-months-in-2015-inflation-adjusted-dollars.csv\") # importing data\n",
    "newincome = income.loc[income['Neighborhood']!= 'South Shore'] # this line and next line gets rid of neighborhoods with no data\n",
    "newincome1 = newincome.loc[newincome['Neighborhood']!= 'Chateau']\n",
    "newincome1.Aggregate_household_income = newincome1.Aggregate_household_income.astype(float) # this allows me to sort by number, because the data was stored as strings before\n",
    "sortedincome = newincome1.sort_values(\"Aggregate_household_income\",ascending=False) # here i sort\n",
    "sortedincome.head(10) # printing out the head, to show an example of the data set"
   ]
  },
  {
   "cell_type": "code",
   "execution_count": 3,
   "metadata": {},
   "outputs": [
    {
     "data": {
      "image/png": "[encoded data removed]",
      "text/plain": [
       "<Figure size 432x288 with 1 Axes>"
      ]
     },
     "metadata": {
      "needs_background": "light"
     },
     "output_type": "display_data"
    },
    {
     "data": {
      "text/html": [
       "<div>\n",
       "<style scoped>\n",
       "    .dataframe tbody tr th:only-of-type {\n",
       "        vertical-align: middle;\n",
       "    }\n",
       "\n",
       "    .dataframe tbody tr th {\n",
       "        vertical-align: top;\n",
       "    }\n",
       "\n",
       "    .dataframe thead th {\n",
       "        text-align: right;\n",
       "    }\n",
       "</style>\n",
       "<table border=\"1\" class=\"dataframe\">\n",
       "  <thead>\n",
       "    <tr style=\"text-align: right;\">\n",
       "      <th></th>\n",
       "      <th>Incidents</th>\n",
       "      <th>Population</th>\n",
       "      <th>Incidents Per Capita</th>\n",
       "    </tr>\n",
       "  </thead>\n",
       "  <tbody>\n",
       "    <tr>\n",
       "      <th>Squirrel Hill North</th>\n",
       "      <td>197</td>\n",
       "      <td>11363</td>\n",
       "      <td>0.017337</td>\n",
       "    </tr>\n",
       "    <tr>\n",
       "      <th>Swisshelm Park</th>\n",
       "      <td>30</td>\n",
       "      <td>1361</td>\n",
       "      <td>0.022043</td>\n",
       "    </tr>\n",
       "    <tr>\n",
       "      <th>Regent Square</th>\n",
       "      <td>23</td>\n",
       "      <td>928</td>\n",
       "      <td>0.024784</td>\n",
       "    </tr>\n",
       "    <tr>\n",
       "      <th>New Homestead</th>\n",
       "      <td>27</td>\n",
       "      <td>990</td>\n",
       "      <td>0.027273</td>\n",
       "    </tr>\n",
       "    <tr>\n",
       "      <th>North Oakland</th>\n",
       "      <td>308</td>\n",
       "      <td>10501</td>\n",
       "      <td>0.029331</td>\n",
       "    </tr>\n",
       "    <tr>\n",
       "      <th>Stanton Heights</th>\n",
       "      <td>172</td>\n",
       "      <td>4601</td>\n",
       "      <td>0.037383</td>\n",
       "    </tr>\n",
       "    <tr>\n",
       "      <th>Squirrel Hill South</th>\n",
       "      <td>587</td>\n",
       "      <td>15110</td>\n",
       "      <td>0.038848</td>\n",
       "    </tr>\n",
       "    <tr>\n",
       "      <th>Lincoln Place</th>\n",
       "      <td>137</td>\n",
       "      <td>3227</td>\n",
       "      <td>0.042454</td>\n",
       "    </tr>\n",
       "    <tr>\n",
       "      <th>Morningside</th>\n",
       "      <td>143</td>\n",
       "      <td>3346</td>\n",
       "      <td>0.042738</td>\n",
       "    </tr>\n",
       "    <tr>\n",
       "      <th>Point Breeze</th>\n",
       "      <td>249</td>\n",
       "      <td>5315</td>\n",
       "      <td>0.046849</td>\n",
       "    </tr>\n",
       "  </tbody>\n",
       "</table>\n",
       "</div>"
      ],
      "text/plain": [
       "                     Incidents  Population  Incidents Per Capita\n",
       "Squirrel Hill North        197       11363              0.017337\n",
       "Swisshelm Park              30        1361              0.022043\n",
       "Regent Square               23         928              0.024784\n",
       "New Homestead               27         990              0.027273\n",
       "North Oakland              308       10501              0.029331\n",
       "Stanton Heights            172        4601              0.037383\n",
       "Squirrel Hill South        587       15110              0.038848\n",
       "Lincoln Place              137        3227              0.042454\n",
       "Morningside                143        3346              0.042738\n",
       "Point Breeze               249        5315              0.046849"
      ]
     },
     "execution_count": 3,
     "metadata": {},
     "output_type": "execute_result"
    }
   ],
   "source": [
    "%run crime-rate.ipynb\n",
    "bigDataFrame.head(10)"
   ]
  },
  {
   "cell_type": "code",
   "execution_count": 4,
   "metadata": {},
   "outputs": [
    {
     "name": "stderr",
     "output_type": "stream",
     "text": [
      "/opt/anaconda3/envs/cmpinf0010/lib/python3.7/site-packages/IPython/core/interactiveshell.py:3147: DtypeWarning: Columns (1) have mixed types.Specify dtype option on import or set low_memory=False.\n",
      "  interactivity=interactivity, compiler=compiler, result=result)\n"
     ]
    },
    {
     "data": {
      "image/png": "[encoded data removed]",
      "text/plain": [
       "<Figure size 432x288 with 1 Axes>"
      ]
     },
     "metadata": {
      "needs_background": "light"
     },
     "output_type": "display_data"
    },
    {
     "data": {
      "image/png": "[encoded data removed]",
      "text/plain": [
       "<Figure size 432x288 with 1 Axes>"
      ]
     },
     "metadata": {
      "needs_background": "light"
     },
     "output_type": "display_data"
    },
    {
     "data": {
      "text/html": [
       "<div>\n",
       "<style scoped>\n",
       "    .dataframe tbody tr th:only-of-type {\n",
       "        vertical-align: middle;\n",
       "    }\n",
       "\n",
       "    .dataframe tbody tr th {\n",
       "        vertical-align: top;\n",
       "    }\n",
       "\n",
       "    .dataframe thead th {\n",
       "        text-align: right;\n",
       "    }\n",
       "</style>\n",
       "<table border=\"1\" class=\"dataframe\">\n",
       "  <thead>\n",
       "    <tr style=\"text-align: right;\">\n",
       "      <th></th>\n",
       "      <th>Number_of_Trees</th>\n",
       "      <th>Area_in_Acres</th>\n",
       "      <th>Trees_Per_Acre</th>\n",
       "    </tr>\n",
       "  </thead>\n",
       "  <tbody>\n",
       "    <tr>\n",
       "      <th>Squirrel Hill South</th>\n",
       "      <td>5073</td>\n",
       "      <td>1709.4</td>\n",
       "      <td>2.97</td>\n",
       "    </tr>\n",
       "    <tr>\n",
       "      <th>Highland Park</th>\n",
       "      <td>2941</td>\n",
       "      <td>744.3</td>\n",
       "      <td>3.95</td>\n",
       "    </tr>\n",
       "    <tr>\n",
       "      <th>Squirrel Hill North</th>\n",
       "      <td>2083</td>\n",
       "      <td>782.1</td>\n",
       "      <td>2.66</td>\n",
       "    </tr>\n",
       "    <tr>\n",
       "      <th>South Side Flats</th>\n",
       "      <td>1693</td>\n",
       "      <td>599.0</td>\n",
       "      <td>2.83</td>\n",
       "    </tr>\n",
       "    <tr>\n",
       "      <th>Shadyside</th>\n",
       "      <td>1557</td>\n",
       "      <td>589.4</td>\n",
       "      <td>2.64</td>\n",
       "    </tr>\n",
       "    <tr>\n",
       "      <th>Bloomfield</th>\n",
       "      <td>1435</td>\n",
       "      <td>449.3</td>\n",
       "      <td>3.19</td>\n",
       "    </tr>\n",
       "    <tr>\n",
       "      <th>East Liberty</th>\n",
       "      <td>1365</td>\n",
       "      <td>371.8</td>\n",
       "      <td>3.67</td>\n",
       "    </tr>\n",
       "    <tr>\n",
       "      <th>Point Breeze</th>\n",
       "      <td>1316</td>\n",
       "      <td>642.6</td>\n",
       "      <td>2.05</td>\n",
       "    </tr>\n",
       "    <tr>\n",
       "      <th>Perry North</th>\n",
       "      <td>1007</td>\n",
       "      <td>775.7</td>\n",
       "      <td>1.30</td>\n",
       "    </tr>\n",
       "    <tr>\n",
       "      <th>Central Business District</th>\n",
       "      <td>1002</td>\n",
       "      <td>409.6</td>\n",
       "      <td>2.45</td>\n",
       "    </tr>\n",
       "  </tbody>\n",
       "</table>\n",
       "</div>"
      ],
      "text/plain": [
       "                           Number_of_Trees  Area_in_Acres  Trees_Per_Acre\n",
       "Squirrel Hill South                   5073         1709.4            2.97\n",
       "Highland Park                         2941          744.3            3.95\n",
       "Squirrel Hill North                   2083          782.1            2.66\n",
       "South Side Flats                      1693          599.0            2.83\n",
       "Shadyside                             1557          589.4            2.64\n",
       "Bloomfield                            1435          449.3            3.19\n",
       "East Liberty                          1365          371.8            3.67\n",
       "Point Breeze                          1316          642.6            2.05\n",
       "Perry North                           1007          775.7            1.30\n",
       "Central Business District             1002          409.6            2.45"
      ]
     },
     "execution_count": 4,
     "metadata": {},
     "output_type": "execute_result"
    }
   ],
   "source": [
    "%run Trees-Study.ipynb\n",
    "sortedTreesGroup.head(10)"
   ]
  },
  {
   "cell_type": "markdown",
   "metadata": {},
   "source": [
    "## Neighborhood Points\n",
    "### We gave each neighborhood points corresponding to the place they got in the neighborhood ranking based on each of our data sets\n",
    "### First Place got 10 points, and Tenth Place got 1 point, and so on\n",
    "Squirrel Hill South: 10,10,4\n",
    "Highland Park: 9,3\n",
    "Squirrel Hill North: 8,8,10\n",
    "South Side Flats: 7,1\n",
    "Shadyside: 6,9\n",
    "Bloomfield: 5,4\n",
    "East Liberty: 4\n",
    "Point Breeze: 3,6,1\n",
    "Perry North: 2\n",
    "Central Business District: 1\n",
    "Brookline: 7\n",
    "Mt. Washington: 5\n",
    "Greenfield: 2\n",
    "Swisshelm Park: 9\n",
    "Regents Square: 8\n",
    "New Homestead: 7\n",
    "North Oakland: 6\n",
    "Stanton Heights: 5\n",
    "Lincoln Place: 3\n",
    "Morningside: 2\n",
    "### There were three neighborhoods in the top ten of each of our Neighborhood Rankings\n",
    "By our overall rankings, the best neighborhood is Squirrel Hill North"
   ]
  },
  {
   "cell_type": "code",
   "execution_count": null,
   "metadata": {},
   "outputs": [],
   "source": []
  }
 ],
 "metadata": {
  "kernelspec": {
   "display_name": "Python 3",
   "language": "python",
   "name": "python3"
  },
  "language_info": {
   "codemirror_mode": {
    "name": "ipython",
    "version": 3
   },
   "file_extension": ".py",
   "mimetype": "text/x-python",
   "name": "python",
   "nbconvert_exporter": "python",
   "pygments_lexer": "ipython3",
   "version": "3.7.7"
  }
 },
 "nbformat": 4,
 "nbformat_minor": 4
}

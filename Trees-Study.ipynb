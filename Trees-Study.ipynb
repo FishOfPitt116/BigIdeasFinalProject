{
 "cells": [
  {
   "cell_type": "markdown",
   "metadata": {},
   "source": [
    "This is Jeremy's Notebook concerning the number of trees per neighborhood."
   ]
  },
  {
   "cell_type": "code",
   "execution_count": 2,
   "metadata": {},
   "outputs": [],
   "source": [
    "import pandas as pd\n",
    "import matplotlib.pyplot as plt\n",
    "%matplotlib inline"
   ]
  },
  {
   "cell_type": "markdown",
   "metadata": {},
   "source": [
    "Import datasets and make a DataFrame for the Area (in acres) of each neighborhood."
   ]
  },
  {
   "cell_type": "code",
   "execution_count": 3,
   "metadata": {},
   "outputs": [
    {
     "name": "stderr",
     "output_type": "stream",
     "text": [
      "/opt/anaconda3/envs/cmpinf0010/lib/python3.7/site-packages/IPython/core/interactiveshell.py:3147: DtypeWarning: Columns (1) have mixed types.Specify dtype option on import or set low_memory=False.\n",
      "  interactivity=interactivity, compiler=compiler, result=result)\n"
     ]
    },
    {
     "data": {
      "text/html": [
       "<div>\n",
       "<style scoped>\n",
       "    .dataframe tbody tr th:only-of-type {\n",
       "        vertical-align: middle;\n",
       "    }\n",
       "\n",
       "    .dataframe tbody tr th {\n",
       "        vertical-align: top;\n",
       "    }\n",
       "\n",
       "    .dataframe thead th {\n",
       "        text-align: right;\n",
       "    }\n",
       "</style>\n",
       "<table border=\"1\" class=\"dataframe\">\n",
       "  <thead>\n",
       "    <tr style=\"text-align: right;\">\n",
       "      <th></th>\n",
       "      <th>Area_in_Acres</th>\n",
       "    </tr>\n",
       "  </thead>\n",
       "  <tbody>\n",
       "    <tr>\n",
       "      <th>Allegheny Center</th>\n",
       "      <td>134.4</td>\n",
       "    </tr>\n",
       "    <tr>\n",
       "      <th>Allegheny West</th>\n",
       "      <td>90.2</td>\n",
       "    </tr>\n",
       "    <tr>\n",
       "      <th>Allentown</th>\n",
       "      <td>188.8</td>\n",
       "    </tr>\n",
       "    <tr>\n",
       "      <th>Arlington</th>\n",
       "      <td>300.8</td>\n",
       "    </tr>\n",
       "    <tr>\n",
       "      <th>Arlington Heights</th>\n",
       "      <td>84.5</td>\n",
       "    </tr>\n",
       "    <tr>\n",
       "      <th>...</th>\n",
       "      <td>...</td>\n",
       "    </tr>\n",
       "    <tr>\n",
       "      <th>Upper Lawrenceville</th>\n",
       "      <td>259.2</td>\n",
       "    </tr>\n",
       "    <tr>\n",
       "      <th>West End</th>\n",
       "      <td>128.0</td>\n",
       "    </tr>\n",
       "    <tr>\n",
       "      <th>West Oakland</th>\n",
       "      <td>137.6</td>\n",
       "    </tr>\n",
       "    <tr>\n",
       "      <th>Westwood</th>\n",
       "      <td>442.9</td>\n",
       "    </tr>\n",
       "    <tr>\n",
       "      <th>Windgap</th>\n",
       "      <td>265.6</td>\n",
       "    </tr>\n",
       "  </tbody>\n",
       "</table>\n",
       "<p>90 rows × 1 columns</p>\n",
       "</div>"
      ],
      "text/plain": [
       "                     Area_in_Acres\n",
       "Allegheny Center             134.4\n",
       "Allegheny West                90.2\n",
       "Allentown                    188.8\n",
       "Arlington                    300.8\n",
       "Arlington Heights             84.5\n",
       "...                            ...\n",
       "Upper Lawrenceville          259.2\n",
       "West End                     128.0\n",
       "West Oakland                 137.6\n",
       "Westwood                     442.9\n",
       "Windgap                      265.6\n",
       "\n",
       "[90 rows x 1 columns]"
      ]
     },
     "execution_count": 3,
     "metadata": {},
     "output_type": "execute_result"
    }
   ],
   "source": [
    "treesData = pd.read_csv(\"PittsburghTrees.csv\")\n",
    "areaData = pd.read_csv(\"NeighArea.csv\")\n",
    "\n",
    "treesData.id = treesData.id.astype(object)\n",
    "areaData.Area_in_acres = areaData.Area_in_acres.astype(float)\n",
    "\n",
    "treesGroup = treesData.groupby(\"neighborhood\").count()\n",
    "\n",
    "\n",
    "index = 0\n",
    "neighborhoods = []\n",
    "areas = []\n",
    "\n",
    "for i in areaData.iterrows():\n",
    "    neighborhoods.append(areaData.iloc[index, 0])\n",
    "    areas.append(areaData.iloc[index, 1])\n",
    "    index = index + 1\n",
    "\n",
    "\n",
    "neighborhoodAreas = pd.DataFrame(areas, index=neighborhoods, columns=[\"Area_in_Acres\"])\n",
    "neighborhoodAreas\n"
   ]
  },
  {
   "cell_type": "markdown",
   "metadata": {},
   "source": [
    "Make a dataframe for the number of trees per neighborhood, and merge it with the area dataframe."
   ]
  },
  {
   "cell_type": "code",
   "execution_count": 6,
   "metadata": {},
   "outputs": [
    {
     "data": {
      "text/html": [
       "<div>\n",
       "<style scoped>\n",
       "    .dataframe tbody tr th:only-of-type {\n",
       "        vertical-align: middle;\n",
       "    }\n",
       "\n",
       "    .dataframe tbody tr th {\n",
       "        vertical-align: top;\n",
       "    }\n",
       "\n",
       "    .dataframe thead th {\n",
       "        text-align: right;\n",
       "    }\n",
       "</style>\n",
       "<table border=\"1\" class=\"dataframe\">\n",
       "  <thead>\n",
       "    <tr style=\"text-align: right;\">\n",
       "      <th></th>\n",
       "      <th>Number_of_Trees</th>\n",
       "      <th>Area_in_Acres</th>\n",
       "    </tr>\n",
       "  </thead>\n",
       "  <tbody>\n",
       "    <tr>\n",
       "      <th>Allegheny Center</th>\n",
       "      <td>867</td>\n",
       "      <td>134.4</td>\n",
       "    </tr>\n",
       "    <tr>\n",
       "      <th>Allegheny West</th>\n",
       "      <td>386</td>\n",
       "      <td>90.2</td>\n",
       "    </tr>\n",
       "    <tr>\n",
       "      <th>Allentown</th>\n",
       "      <td>84</td>\n",
       "      <td>188.8</td>\n",
       "    </tr>\n",
       "    <tr>\n",
       "      <th>Arlington</th>\n",
       "      <td>107</td>\n",
       "      <td>300.8</td>\n",
       "    </tr>\n",
       "    <tr>\n",
       "      <th>Arlington Heights</th>\n",
       "      <td>5</td>\n",
       "      <td>84.5</td>\n",
       "    </tr>\n",
       "    <tr>\n",
       "      <th>...</th>\n",
       "      <td>...</td>\n",
       "      <td>...</td>\n",
       "    </tr>\n",
       "    <tr>\n",
       "      <th>Upper Lawrenceville</th>\n",
       "      <td>373</td>\n",
       "      <td>259.2</td>\n",
       "    </tr>\n",
       "    <tr>\n",
       "      <th>West End</th>\n",
       "      <td>131</td>\n",
       "      <td>128.0</td>\n",
       "    </tr>\n",
       "    <tr>\n",
       "      <th>West Oakland</th>\n",
       "      <td>78</td>\n",
       "      <td>137.6</td>\n",
       "    </tr>\n",
       "    <tr>\n",
       "      <th>Westwood</th>\n",
       "      <td>260</td>\n",
       "      <td>442.9</td>\n",
       "    </tr>\n",
       "    <tr>\n",
       "      <th>Windgap</th>\n",
       "      <td>110</td>\n",
       "      <td>265.6</td>\n",
       "    </tr>\n",
       "  </tbody>\n",
       "</table>\n",
       "<p>90 rows × 2 columns</p>\n",
       "</div>"
      ],
      "text/plain": [
       "                     Number_of_Trees  Area_in_Acres\n",
       "Allegheny Center                 867          134.4\n",
       "Allegheny West                   386           90.2\n",
       "Allentown                         84          188.8\n",
       "Arlington                        107          300.8\n",
       "Arlington Heights                  5           84.5\n",
       "...                              ...            ...\n",
       "Upper Lawrenceville              373          259.2\n",
       "West End                         131          128.0\n",
       "West Oakland                      78          137.6\n",
       "Westwood                         260          442.9\n",
       "Windgap                          110          265.6\n",
       "\n",
       "[90 rows x 2 columns]"
      ]
     },
     "execution_count": 6,
     "metadata": {},
     "output_type": "execute_result"
    }
   ],
   "source": [
    "index = 0\n",
    "treeTotals = []\n",
    "for j in treesGroup.iterrows():\n",
    "    treeTotals.append(treesGroup.iloc[index, 4])\n",
    "    index = index + 1\n",
    "    \n",
    "neighborhoodTrees = pd.DataFrame(treeTotals, index=neighborhoods, columns=[\"Number_of_Trees\"])\n",
    "#neighborhoodTrees\n",
    "#numbCol = treesGroup.iloc[:, 4]\n",
    "#neighCol = treesGroup.iloc[:, 0]\n",
    "\n",
    "\n",
    "#neighDictionary = { }\n",
    "#treesPerNeighborhood = pd.DataFrame(areas, index=neighborhoods, columns =[\"Number_of_Trees\"])\n",
    "#treesPerNeighborhood.Number_of_trees = treesPerNeighborhood.Number_of_trees.astype(float)\n",
    "\n",
    "\n",
    "bigDataFrame = neighborhoodTrees.merge(neighborhoodAreas, left_index=True, right_index=True)\n",
    "\n",
    "bigDataFrame"
   ]
  },
  {
   "cell_type": "markdown",
   "metadata": {},
   "source": [
    "Find the number of trees per acre for each neighborhood, then sort the data to find the neighborhoods with the most trees per acre."
   ]
  },
  {
   "cell_type": "code",
   "execution_count": 7,
   "metadata": {},
   "outputs": [
    {
     "data": {
      "text/html": [
       "<div>\n",
       "<style scoped>\n",
       "    .dataframe tbody tr th:only-of-type {\n",
       "        vertical-align: middle;\n",
       "    }\n",
       "\n",
       "    .dataframe tbody tr th {\n",
       "        vertical-align: top;\n",
       "    }\n",
       "\n",
       "    .dataframe thead th {\n",
       "        text-align: right;\n",
       "    }\n",
       "</style>\n",
       "<table border=\"1\" class=\"dataframe\">\n",
       "  <thead>\n",
       "    <tr style=\"text-align: right;\">\n",
       "      <th></th>\n",
       "      <th>Number_of_Trees</th>\n",
       "      <th>Area_in_Acres</th>\n",
       "      <th>Trees_Per_Acre</th>\n",
       "    </tr>\n",
       "  </thead>\n",
       "  <tbody>\n",
       "    <tr>\n",
       "      <th>Allegheny Center</th>\n",
       "      <td>867</td>\n",
       "      <td>134.4</td>\n",
       "      <td>6.45</td>\n",
       "    </tr>\n",
       "    <tr>\n",
       "      <th>Friendship</th>\n",
       "      <td>362</td>\n",
       "      <td>67.8</td>\n",
       "      <td>5.34</td>\n",
       "    </tr>\n",
       "    <tr>\n",
       "      <th>Allegheny West</th>\n",
       "      <td>386</td>\n",
       "      <td>90.2</td>\n",
       "      <td>4.28</td>\n",
       "    </tr>\n",
       "    <tr>\n",
       "      <th>Central Northside</th>\n",
       "      <td>674</td>\n",
       "      <td>165.8</td>\n",
       "      <td>4.07</td>\n",
       "    </tr>\n",
       "    <tr>\n",
       "      <th>Highland Park</th>\n",
       "      <td>2941</td>\n",
       "      <td>744.3</td>\n",
       "      <td>3.95</td>\n",
       "    </tr>\n",
       "    <tr>\n",
       "      <th>Manchester</th>\n",
       "      <td>706</td>\n",
       "      <td>178.6</td>\n",
       "      <td>3.95</td>\n",
       "    </tr>\n",
       "    <tr>\n",
       "      <th>East Liberty</th>\n",
       "      <td>1365</td>\n",
       "      <td>371.8</td>\n",
       "      <td>3.67</td>\n",
       "    </tr>\n",
       "    <tr>\n",
       "      <th>Regent Square</th>\n",
       "      <td>434</td>\n",
       "      <td>122.9</td>\n",
       "      <td>3.53</td>\n",
       "    </tr>\n",
       "    <tr>\n",
       "      <th>Crawford-Roberts</th>\n",
       "      <td>567</td>\n",
       "      <td>165.1</td>\n",
       "      <td>3.43</td>\n",
       "    </tr>\n",
       "    <tr>\n",
       "      <th>Bloomfield</th>\n",
       "      <td>1435</td>\n",
       "      <td>449.3</td>\n",
       "      <td>3.19</td>\n",
       "    </tr>\n",
       "  </tbody>\n",
       "</table>\n",
       "</div>"
      ],
      "text/plain": [
       "                   Number_of_Trees  Area_in_Acres  Trees_Per_Acre\n",
       "Allegheny Center               867          134.4            6.45\n",
       "Friendship                     362           67.8            5.34\n",
       "Allegheny West                 386           90.2            4.28\n",
       "Central Northside              674          165.8            4.07\n",
       "Highland Park                 2941          744.3            3.95\n",
       "Manchester                     706          178.6            3.95\n",
       "East Liberty                  1365          371.8            3.67\n",
       "Regent Square                  434          122.9            3.53\n",
       "Crawford-Roberts               567          165.1            3.43\n",
       "Bloomfield                    1435          449.3            3.19"
      ]
     },
     "execution_count": 7,
     "metadata": {},
     "output_type": "execute_result"
    }
   ],
   "source": [
    "treesPerAcre = []\n",
    "index = 0\n",
    "for k in bigDataFrame.iterrows():\n",
    "    nTrees = float(bigDataFrame.iloc[index, 0])\n",
    "    nAcres = bigDataFrame.iloc[index, 1]\n",
    "    \n",
    "    tempTPA = nTrees / nAcres\n",
    "    tempTPA = round(tempTPA, 2)\n",
    "    treesPerAcre.append(tempTPA)\n",
    "    \n",
    "    index = index + 1\n",
    "    \n",
    "bigDataFrame[\"Trees_Per_Acre\"] = treesPerAcre\n",
    "\n",
    "\n",
    "sortedDF = bigDataFrame.sort_values(\"Trees_Per_Acre\", ascending=False)\n",
    "sortedDF.head(10)"
   ]
  },
  {
   "cell_type": "code",
   "execution_count": 18,
   "metadata": {},
   "outputs": [
    {
     "data": {
      "text/plain": [
       "Text(0, 0.5, 'Trees Per Acre')"
      ]
     },
     "execution_count": 18,
     "metadata": {},
     "output_type": "execute_result"
    },
    {
     "data": {
      "image/png": "[encoded data removed]",
      "text/plain": [
       "<Figure size 432x288 with 1 Axes>"
      ]
     },
     "metadata": {
      "needs_background": "light"
     },
     "output_type": "display_data"
    }
   ],
   "source": [
    "top10byAcre = sortedDF.head(10)\n",
    "top10byAcre[\"Trees_Per_Acre\"].plot.bar(title=\"Top 10 Neighborhoods with the Most Trees Per Acre\")\n",
    "plt.ylabel(\"Trees Per Acre\")"
   ]
  },
  {
   "cell_type": "markdown",
   "metadata": {},
   "source": [
    "It is interesting that if you don't take area into account and simply rank each neighborhood based on number of trees, you get very different results. The number 1 result (Squirrel Hill South) is not even in the *top ten* for Trees per Acre."
   ]
  },
  {
   "cell_type": "code",
   "execution_count": 19,
   "metadata": {},
   "outputs": [
    {
     "data": {
      "text/html": [
       "<div>\n",
       "<style scoped>\n",
       "    .dataframe tbody tr th:only-of-type {\n",
       "        vertical-align: middle;\n",
       "    }\n",
       "\n",
       "    .dataframe tbody tr th {\n",
       "        vertical-align: top;\n",
       "    }\n",
       "\n",
       "    .dataframe thead th {\n",
       "        text-align: right;\n",
       "    }\n",
       "</style>\n",
       "<table border=\"1\" class=\"dataframe\">\n",
       "  <thead>\n",
       "    <tr style=\"text-align: right;\">\n",
       "      <th></th>\n",
       "      <th>Number_of_Trees</th>\n",
       "      <th>Area_in_Acres</th>\n",
       "      <th>Trees_Per_Acre</th>\n",
       "    </tr>\n",
       "  </thead>\n",
       "  <tbody>\n",
       "    <tr>\n",
       "      <th>Squirrel Hill South</th>\n",
       "      <td>5073</td>\n",
       "      <td>1709.4</td>\n",
       "      <td>2.97</td>\n",
       "    </tr>\n",
       "    <tr>\n",
       "      <th>Highland Park</th>\n",
       "      <td>2941</td>\n",
       "      <td>744.3</td>\n",
       "      <td>3.95</td>\n",
       "    </tr>\n",
       "    <tr>\n",
       "      <th>Squirrel Hill North</th>\n",
       "      <td>2083</td>\n",
       "      <td>782.1</td>\n",
       "      <td>2.66</td>\n",
       "    </tr>\n",
       "    <tr>\n",
       "      <th>South Side Flats</th>\n",
       "      <td>1693</td>\n",
       "      <td>599.0</td>\n",
       "      <td>2.83</td>\n",
       "    </tr>\n",
       "    <tr>\n",
       "      <th>Shadyside</th>\n",
       "      <td>1557</td>\n",
       "      <td>589.4</td>\n",
       "      <td>2.64</td>\n",
       "    </tr>\n",
       "    <tr>\n",
       "      <th>Bloomfield</th>\n",
       "      <td>1435</td>\n",
       "      <td>449.3</td>\n",
       "      <td>3.19</td>\n",
       "    </tr>\n",
       "    <tr>\n",
       "      <th>East Liberty</th>\n",
       "      <td>1365</td>\n",
       "      <td>371.8</td>\n",
       "      <td>3.67</td>\n",
       "    </tr>\n",
       "    <tr>\n",
       "      <th>Point Breeze</th>\n",
       "      <td>1316</td>\n",
       "      <td>642.6</td>\n",
       "      <td>2.05</td>\n",
       "    </tr>\n",
       "    <tr>\n",
       "      <th>Perry North</th>\n",
       "      <td>1007</td>\n",
       "      <td>775.7</td>\n",
       "      <td>1.30</td>\n",
       "    </tr>\n",
       "    <tr>\n",
       "      <th>Central Business District</th>\n",
       "      <td>1002</td>\n",
       "      <td>409.6</td>\n",
       "      <td>2.45</td>\n",
       "    </tr>\n",
       "  </tbody>\n",
       "</table>\n",
       "</div>"
      ],
      "text/plain": [
       "                           Number_of_Trees  Area_in_Acres  Trees_Per_Acre\n",
       "Squirrel Hill South                   5073         1709.4            2.97\n",
       "Highland Park                         2941          744.3            3.95\n",
       "Squirrel Hill North                   2083          782.1            2.66\n",
       "South Side Flats                      1693          599.0            2.83\n",
       "Shadyside                             1557          589.4            2.64\n",
       "Bloomfield                            1435          449.3            3.19\n",
       "East Liberty                          1365          371.8            3.67\n",
       "Point Breeze                          1316          642.6            2.05\n",
       "Perry North                           1007          775.7            1.30\n",
       "Central Business District             1002          409.6            2.45"
      ]
     },
     "execution_count": 19,
     "metadata": {},
     "output_type": "execute_result"
    }
   ],
   "source": [
    "sortedTreesGroup = bigDataFrame.sort_values(\"Number_of_Trees\", ascending= False)\n",
    "sortedTreesGroup.head(10)"
   ]
  },
  {
   "cell_type": "markdown",
   "metadata": {},
   "source": [
    "Create a bar graph for the top 10."
   ]
  },
  {
   "cell_type": "code",
   "execution_count": 16,
   "metadata": {},
   "outputs": [
    {
     "data": {
      "text/plain": [
       "Text(0, 0.5, 'Number of Trees')"
      ]
     },
     "execution_count": 16,
     "metadata": {},
     "output_type": "execute_result"
    },
    {
     "data": {
      "image/png": "[encoded data removed]",
      "text/plain": [
       "<Figure size 432x288 with 1 Axes>"
      ]
     },
     "metadata": {
      "needs_background": "light"
     },
     "output_type": "display_data"
    }
   ],
   "source": [
    "top10numbTrees = sortedTreesGroup.head(10)\n",
    "top10numbTrees[\"Number_of_Trees\"].plot.bar(title=\"Top 10 Neighborhoods with the Most Trees\")\n",
    "plt.ylabel(\"Number of Trees\")"
   ]
  },
  {
   "cell_type": "markdown",
   "metadata": {},
   "source": [
    "This is another change"
   ]
  }
 ],
 "metadata": {
  "kernelspec": {
   "display_name": "Python 3",
   "language": "python",
   "name": "python3"
  },
  "language_info": {
   "codemirror_mode": {
    "name": "ipython",
    "version": 3
   },
   "file_extension": ".py",
   "mimetype": "text/x-python",
   "name": "python",
   "nbconvert_exporter": "python",
   "pygments_lexer": "ipython3",
   "version": "3.8.5"
  }
 },
 "nbformat": 4,
 "nbformat_minor": 5
}
